{
 "cells": [
  {
   "cell_type": "markdown",
   "id": "20a15384",
   "metadata": {},
   "source": [
    "1. In the below elements which of them are values or an expression? eg:- values can be integer or string and expressions will be mathematical operators.\n",
    "\n",
    "Ans :   *      =  Expression \n",
    "        -87.8  =  Value\n",
    "        -      =  Expression\n",
    "        /      =  Expression\n",
    "        +      =  Expression\n",
    "        6      =  value"
   ]
  },
  {
   "cell_type": "markdown",
   "id": "f37b4f36",
   "metadata": {},
   "source": [
    "2. What is the difference between string and variable?\n",
    "\n",
    "Ans : Varibale are containers used to store the data\n",
    "      Srting is an any word which is written in single/dobble quaote\n",
    "      "
   ]
  },
  {
   "cell_type": "markdown",
   "id": "f009fbb3",
   "metadata": {},
   "source": [
    "3. Describe three different data types\n",
    "\n",
    "Ans :\n",
    "    integer = Interger number\n",
    "    Float   = Float Number\n",
    "    Boolian = True / False\n",
    "    Complex = Consits of Real and Imaginary number i.e 3+2j"
   ]
  },
  {
   "cell_type": "markdown",
   "id": "03352a01",
   "metadata": {},
   "source": [
    "4. What is an expression made up of? What do all expressions do?\n",
    "\n",
    "Ans : Experssion made of Airthmetic operator with value.\n",
    "      It will do the opeartion according to the operator "
   ]
  },
  {
   "cell_type": "markdown",
   "id": "4255b5bd",
   "metadata": {},
   "source": [
    "5. This assignment statements, like spam = 10. What is the difference between an expression and a statement?\n",
    "\n",
    "Ans : Experssion made of Airthmetic operator with value.\n",
    "      Statement are sentences and executes with what we written as it is"
   ]
  },
  {
   "cell_type": "markdown",
   "id": "ba80a22c",
   "metadata": {},
   "source": [
    "6. After running the following code, what does the variable bacon contain?\n",
    "bacon = 22\n",
    "bacon + 1\n",
    "\n",
    "Ans:  23"
   ]
  },
  {
   "cell_type": "code",
   "execution_count": 1,
   "id": "8d89a9cb",
   "metadata": {},
   "outputs": [
    {
     "data": {
      "text/plain": [
       "23"
      ]
     },
     "execution_count": 1,
     "metadata": {},
     "output_type": "execute_result"
    }
   ],
   "source": [
    "bacon = 22\n",
    "bacon + 1"
   ]
  },
  {
   "cell_type": "markdown",
   "id": "678d4b61",
   "metadata": {},
   "source": [
    "7. What should the values of the following two terms be?\n",
    "  'spam' + 'spamspam'  =  'spamspamspam'\n",
    "   'spam' * 3          =  'spamspamspam' "
   ]
  },
  {
   "cell_type": "code",
   "execution_count": 2,
   "id": "b61e8025",
   "metadata": {},
   "outputs": [
    {
     "data": {
      "text/plain": [
       "'spamspamspam'"
      ]
     },
     "execution_count": 2,
     "metadata": {},
     "output_type": "execute_result"
    }
   ],
   "source": [
    "'spam' + 'spamspam'"
   ]
  },
  {
   "cell_type": "code",
   "execution_count": 3,
   "id": "f4c26244",
   "metadata": {},
   "outputs": [
    {
     "data": {
      "text/plain": [
       "'spamspamspam'"
      ]
     },
     "execution_count": 3,
     "metadata": {},
     "output_type": "execute_result"
    }
   ],
   "source": [
    "'spam' *3"
   ]
  },
  {
   "cell_type": "markdown",
   "id": "d1a724d6",
   "metadata": {},
   "source": [
    "8. Why is eggs a valid variable name while 100 is invalid?\n",
    "\n",
    "Ans :  Variable name should start with alpthabartic word, with number or any sign"
   ]
  },
  {
   "cell_type": "markdown",
   "id": "63a3e37e",
   "metadata": {},
   "source": [
    "9. What three functions can be used to get the integer, floating-point number, or string version of a value?\n",
    " \n",
    "Ans : int() , float() , str()"
   ]
  },
  {
   "cell_type": "markdown",
   "id": "ee269241",
   "metadata": {},
   "source": [
    "10. Why does this expression cause an error? How can you fix it?\n",
    "\n",
    "    'I have eaten' + 99 + 'burritos' \n",
    "    \n",
    "Ans : Since 99 is not written in single or doubble quaotes.\n",
    "      We can fix it by put single or doubble quaotes in 99"
   ]
  },
  {
   "cell_type": "code",
   "execution_count": 4,
   "id": "1143dff7",
   "metadata": {},
   "outputs": [
    {
     "ename": "TypeError",
     "evalue": "can only concatenate str (not \"int\") to str",
     "output_type": "error",
     "traceback": [
      "\u001b[1;31m---------------------------------------------------------------------------\u001b[0m",
      "\u001b[1;31mTypeError\u001b[0m                                 Traceback (most recent call last)",
      "Input \u001b[1;32mIn [4]\u001b[0m, in \u001b[0;36m<cell line: 1>\u001b[1;34m()\u001b[0m\n\u001b[1;32m----> 1\u001b[0m \u001b[38;5;124;43m'\u001b[39;49m\u001b[38;5;124;43mI have eaten\u001b[39;49m\u001b[38;5;124;43m'\u001b[39;49m\u001b[43m \u001b[49m\u001b[38;5;241;43m+\u001b[39;49m\u001b[43m \u001b[49m\u001b[38;5;241;43m99\u001b[39;49m \u001b[38;5;241m+\u001b[39m \u001b[38;5;124m'\u001b[39m\u001b[38;5;124mburritos\u001b[39m\u001b[38;5;124m'\u001b[39m\n",
      "\u001b[1;31mTypeError\u001b[0m: can only concatenate str (not \"int\") to str"
     ]
    }
   ],
   "source": [
    " 'I have eaten' + 99 + 'burritos' "
   ]
  },
  {
   "cell_type": "code",
   "execution_count": 5,
   "id": "182155c5",
   "metadata": {},
   "outputs": [
    {
     "data": {
      "text/plain": [
       "'I have eaten99burritos'"
      ]
     },
     "execution_count": 5,
     "metadata": {},
     "output_type": "execute_result"
    }
   ],
   "source": [
    "'I have eaten' + '99' + 'burritos' "
   ]
  },
  {
   "cell_type": "code",
   "execution_count": null,
   "id": "8084edee",
   "metadata": {},
   "outputs": [],
   "source": []
  }
 ],
 "metadata": {
  "kernelspec": {
   "display_name": "Python 3 (ipykernel)",
   "language": "python",
   "name": "python3"
  },
  "language_info": {
   "codemirror_mode": {
    "name": "ipython",
    "version": 3
   },
   "file_extension": ".py",
   "mimetype": "text/x-python",
   "name": "python",
   "nbconvert_exporter": "python",
   "pygments_lexer": "ipython3",
   "version": "3.9.12"
  }
 },
 "nbformat": 4,
 "nbformat_minor": 5
}
